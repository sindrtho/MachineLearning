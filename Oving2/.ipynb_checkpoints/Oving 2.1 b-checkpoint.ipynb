{
 "cells": [
  {
   "cell_type": "code",
   "execution_count": 1,
   "metadata": {},
   "outputs": [],
   "source": [
    "# Fixing imports\n",
    "import tensorflow as tf\n",
    "import numpy as np\n",
    "import matplotlib.pyplot as plt\n",
    "from sklearn.model_selection import train_test_split as tts\n",
    "from sklearn.datasets import fetch_openml\n",
    "import time"
   ]
  },
  {
   "cell_type": "code",
   "execution_count": 2,
   "metadata": {},
   "outputs": [],
   "source": [
    "x, y = fetch_openml('mnist_784', version=1, return_X_y=True)"
   ]
  },
  {
   "cell_type": "code",
   "execution_count": 3,
   "metadata": {},
   "outputs": [],
   "source": [
    "# Fixing ys and xs for training\n",
    "# x = x.reshape(len(x), 28, 28)\n",
    "\n",
    "real_y = np.array([[0.0, 0.0, 0.0, 0.0, 0.0, 0.0, 0.0, 0.0, 0.0, 0.0] for i in range(len(y))])\n",
    "for i in range(len(y)):\n",
    "    real_y[i, int(y[i])] = 1.0"
   ]
  },
  {
   "cell_type": "code",
   "execution_count": 4,
   "metadata": {},
   "outputs": [],
   "source": [
    "# Splitting to train and test sets\n",
    "x_train, x_test, y_train, y_test = tts(x, real_y)\n",
    "x_train = x_train.reshape([-1, 28, 28, 1])\n",
    "x_test = x_test.reshape([-1, 28, 28, 1])\n",
    "\n",
    "TRAINING_BATCHES = int(len(x_train)/100)\n",
    "TESTING_BATCHES = int(len(x_test)/35)\n",
    "\n",
    "x_train_batches = np.split(x_train, TRAINING_BATCHES)\n",
    "x_test_batches = np.split(x_test, TESTING_BATCHES)\n",
    "y_train_batches = np.split(y_train, TRAINING_BATCHES)\n",
    "y_test_batches = np.split(y_test, TESTING_BATCHES)"
   ]
  },
  {
   "cell_type": "code",
   "execution_count": 5,
   "metadata": {},
   "outputs": [],
   "source": [
    "class DigitRecognizer():\n",
    "    def __init__(self):\n",
    "        self.x = tf.placeholder(tf.float32, shape=[None, 28, 28, 1])\n",
    "        self.y = tf.placeholder(tf.float32)\n",
    "        \n",
    "#         self.W1 = tf.Variable(tf.random_normal([5, 5, 1, 32]))\n",
    "#         self.b1 = tf.Variable(tf.random_normal([32]))\n",
    "#         self.W2 = tf.Variable(tf.random_normal([14*14*32, 10]))\n",
    "#         self.b2 = tf.Variable(tf.random_normal([10]))\n",
    "        \n",
    "#         conv1 = tf.nn.bias_add(tf.nn.conv2d(self.x, self.W1, strides=[1, 1, 1, 1], padding='SAME'), self.b1)\n",
    "#         pool1 = tf.nn.max_pool(conv1, ksize=[1, 2, 2, 1], strides=[1, 2, 2, 1], padding='SAME')\n",
    "        \n",
    "        conv1 = tf.layers.conv2d(self.x, filters=32, kernel_size=[5, 5], strides=[1, 1], padding='SAME')\n",
    "        pool1 = tf.layers.max_pooling2d(conv1, pool_size=[2, 2], strides=[2, 2], padding='SAME')\n",
    "        conv2 = tf.layers.conv2d(pool1, filters=64, kernel_size=[5, 5], strides=[1, 1], padding='SAME')\n",
    "        pool2 = tf.layers.max_pooling2d(conv2, pool_size=[2, 2], strides=[2, 2], padding='SAME')\n",
    "        \n",
    "#         logits = tf.nn.bias_add(tf.matmul(tf.reshape(pool1, [-1, 14 * 14 * 32]), self.W2), self.b2)\n",
    "    \n",
    "        dense1 = tf.layers.dense(tf.layers.flatten(pool2), units=1024)\n",
    "        logits = tf.layers.dense(tf.layers.flatten(dense1), units=10)\n",
    "        \n",
    "        self.f = tf.nn.softmax(logits)\n",
    "        self.accuracy = tf.reduce_mean(tf.cast(tf.equal(tf.argmax(self.f, 1), tf.argmax(self.y, 1)), tf.float32))\n",
    "        self.loss = tf.losses.softmax_cross_entropy(self.y, logits)"
   ]
  },
  {
   "cell_type": "code",
   "execution_count": 10,
   "metadata": {
    "scrolled": false
   },
   "outputs": [
    {
     "name": "stdout",
     "output_type": "stream",
     "text": [
      "Epoch 1\n",
      "Accuracy of epoch 0: 0.94%\n",
      "Time for epoch 0: 32\n",
      "\n",
      "Epoch 2\n",
      "Accuracy of epoch 1: 0.95%\n",
      "Time for epoch 1: 32\n",
      "\n",
      "Epoch 3\n",
      "Accuracy of epoch 2: 0.96%\n",
      "Time for epoch 2: 32\n",
      "\n",
      "Epoch 4\n",
      "Accuracy of epoch 3: 0.96%\n",
      "Time for epoch 3: 32\n",
      "\n",
      "Epoch 5\n",
      "Accuracy of epoch 4: 0.96%\n",
      "Time for epoch 4: 37\n",
      "\n",
      "Epoch 6\n",
      "Accuracy of epoch 5: 0.91%\n",
      "Time for epoch 5: 32\n",
      "\n",
      "Epoch 7\n",
      "Accuracy of epoch 6: 0.79%\n",
      "Time for epoch 6: 33\n",
      "\n",
      "Epoch 8\n",
      "Accuracy of epoch 7: 0.87%\n",
      "Time for epoch 7: 32\n",
      "\n",
      "Epoch 9\n",
      "Accuracy of epoch 8: 0.92%\n",
      "Time for epoch 8: 32\n",
      "\n",
      "Epoch 10\n",
      "Accuracy of epoch 9: 0.92%\n",
      "Time for epoch 9: 32\n",
      "\n",
      "Epoch 11\n",
      "Accuracy of epoch 10: 0.93%\n",
      "Time for epoch 10: 32\n",
      "\n",
      "Epoch 12\n",
      "Accuracy of epoch 11: 0.95%\n",
      "Time for epoch 11: 32\n",
      "\n",
      "Epoch 13\n",
      "Accuracy of epoch 12: 0.93%\n",
      "Time for epoch 12: 32\n",
      "\n",
      "Epoch 14\n",
      "Accuracy of epoch 13: 0.94%\n",
      "Time for epoch 13: 41\n",
      "\n",
      "Epoch 15\n",
      "Accuracy of epoch 14: 0.94%\n",
      "Time for epoch 14: 38\n",
      "\n",
      "Epoch 16\n",
      "Accuracy of epoch 15: 0.93%\n",
      "Time for epoch 15: 32\n",
      "\n",
      "Epoch 17\n",
      "Accuracy of epoch 16: 0.95%\n",
      "Time for epoch 16: 32\n",
      "\n",
      "Epoch 18\n",
      "Accuracy of epoch 17: 0.80%\n",
      "Time for epoch 17: 32\n",
      "\n",
      "Epoch 19\n",
      "Accuracy of epoch 18: 0.94%\n",
      "Time for epoch 18: 32\n",
      "\n",
      "Epoch 20\n",
      "Accuracy of epoch 19: 0.95%\n",
      "Time for epoch 19: 33\n",
      "\n",
      "Runtime: 661.21\n"
     ]
    }
   ],
   "source": [
    "model = DigitRecognizer()\n",
    "mini_op = tf.train.AdamOptimizer(0.01).minimize(model.loss)\n",
    "\n",
    "session = tf.Session()\n",
    "session.run(tf.global_variables_initializer())\n",
    "\n",
    "start = time.time()\n",
    "\n",
    "EPOCHS = 20\n",
    "\n",
    "for epoch in range(EPOCHS):\n",
    "    start_epoch = time.time()\n",
    "    print(\"Epoch %d\" % (epoch + 1))\n",
    "    for batch in range(TRAINING_BATCHES):\n",
    "        session.run(mini_op, {model.x: x_train_batches[batch], model.y: y_train_batches[batch]})\n",
    "    acc = session.run([model.accuracy], {model.x: x_test, model.y: y_test})\n",
    "    print(\"Accuracy of epoch %d: %.2f%s\" % (epoch, acc[0], \"%\"))\n",
    "    end_epoch = time.time()\n",
    "    print(\"Time for epoch %.d: %.f\\n\" % (epoch, (end_epoch - start_epoch)))\n",
    "\n",
    "end = time.time()\n",
    "print(\"Runtime: %.2f\" % (end - start))\n",
    "\n",
    "loss, accuracy = session.run([model.loss, model.accuracy], {model.x: x_test, model.y: y_test})"
   ]
  },
  {
   "cell_type": "code",
   "execution_count": 12,
   "metadata": {},
   "outputs": [
    {
     "name": "stdout",
     "output_type": "stream",
     "text": [
      "95.35% accuracy\n"
     ]
    }
   ],
   "source": [
    "predictions, accuracy = session.run([model.f, model.accuracy], {model.x: x_test, model.y: y_test})\n",
    "for p in predictions:\n",
    "    max = 0\n",
    "    index = 0\n",
    "    for n in range(len(p)):\n",
    "        if p[n] > max:\n",
    "            max = p[n]\n",
    "            index = n\n",
    "    for n in range(len(p)):\n",
    "        p[n] = 0 if not n == index else 1\n",
    "        \n",
    "acc = sum([int(list(predictions[i]) == list(y_test[i])) for i in range(len(predictions))])/len(predictions)*100\n",
    "print(\"%.2f%s accuracy\" % (acc, '%'))"
   ]
  },
  {
   "cell_type": "code",
   "execution_count": 11,
   "metadata": {},
   "outputs": [
    {
     "name": "stdout",
     "output_type": "stream",
     "text": [
      "0.9535428\n"
     ]
    }
   ],
   "source": [
    "print(accuracy)"
   ]
  }
 ],
 "metadata": {
  "kernelspec": {
   "display_name": "Python 3",
   "language": "python",
   "name": "python3"
  },
  "language_info": {
   "codemirror_mode": {
    "name": "ipython",
    "version": 3
   },
   "file_extension": ".py",
   "mimetype": "text/x-python",
   "name": "python",
   "nbconvert_exporter": "python",
   "pygments_lexer": "ipython3",
   "version": "3.7.4"
  }
 },
 "nbformat": 4,
 "nbformat_minor": 2
}
