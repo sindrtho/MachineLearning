{
 "cells": [
  {
   "cell_type": "code",
   "execution_count": 1,
   "metadata": {},
   "outputs": [],
   "source": [
    "# Fixing imports\n",
    "import tensorflow as tf\n",
    "import numpy as np\n",
    "import matplotlib.pyplot as plt\n",
    "from sklearn.model_selection import train_test_split as tts\n",
    "from sklearn.datasets import fetch_openml\n",
    "import time"
   ]
  },
  {
   "cell_type": "code",
   "execution_count": 2,
   "metadata": {},
   "outputs": [],
   "source": [
    "x, y = fetch_openml('mnist_784', version=1, return_X_y=True)"
   ]
  },
  {
   "cell_type": "code",
   "execution_count": 3,
   "metadata": {},
   "outputs": [],
   "source": [
    "# Fixing ys and xs for training\n",
    "# x = x.reshape(len(x), 28, 28)\n",
    "\n",
    "real_y = np.array([[0.0, 0.0, 0.0, 0.0, 0.0, 0.0, 0.0, 0.0, 0.0, 0.0] for i in range(len(y))])\n",
    "for i in range(len(y)):\n",
    "    real_y[i, int(y[i])] = 1.0"
   ]
  },
  {
   "cell_type": "code",
   "execution_count": 4,
   "metadata": {},
   "outputs": [],
   "source": [
    "# Splitting to train and test sets\n",
    "x_train, x_test, y_train, y_test = tts(x, real_y)\n",
    "x_train = x_train.reshape([-1, 28, 28, 1])\n",
    "x_test = x_test.reshape([-1, 28, 28, 1])\n",
    "\n",
    "TRAINING_BATCHES = int(len(x_train)/100)\n",
    "TESTING_BATCHES = int(len(x_test)/35)\n",
    "\n",
    "x_train_batches = np.split(x_train, TRAINING_BATCHES)\n",
    "x_test_batches = np.split(x_test, TESTING_BATCHES)\n",
    "y_train_batches = np.split(y_train, TRAINING_BATCHES)\n",
    "y_test_batches = np.split(y_test, TESTING_BATCHES)"
   ]
  },
  {
   "cell_type": "code",
   "execution_count": 6,
   "metadata": {},
   "outputs": [],
   "source": [
    "class DigitRecognizer():\n",
    "    def __init__(self):\n",
    "        self.x = tf.placeholder(tf.float32, shape=[None, 28, 28, 1])\n",
    "        self.y = tf.placeholder(tf.float32)\n",
    "        \n",
    "#         self.W1 = tf.Variable(tf.random_normal([5, 5, 1, 32]))\n",
    "#         self.b1 = tf.Variable(tf.random_normal([32]))\n",
    "#         self.W2 = tf.Variable(tf.random_normal([14*14*32, 10]))\n",
    "#         self.b2 = tf.Variable(tf.random_normal([10]))\n",
    "        \n",
    "#         conv1 = tf.nn.bias_add(tf.nn.conv2d(self.x, self.W1, strides=[1, 1, 1, 1], padding='SAME'), self.b1)\n",
    "#         pool1 = tf.nn.max_pool(conv1, ksize=[1, 2, 2, 1], strides=[1, 2, 2, 1], padding='SAME')\n",
    "        \n",
    "        conv1 = tf.layers.conv2d(self.x, filters=32, kernel_size=[5, 5], strides=[1, 1], padding='SAME')\n",
    "        pool1 = tf.layers.max_pooling2d(conv1, pool_size=[2, 2], strides=[2, 2], padding='SAME')\n",
    "        conv2 = tf.layers.conv2d(pool1, filters=64, kernel_size=[5, 5], strides=[1, 1], padding='SAME')\n",
    "        pool2 = tf.layers.max_pooling2d(conv2, pool_size=[2, 2], strides=[2, 2], padding='SAME')\n",
    "        \n",
    "#         logits = tf.nn.bias_add(tf.matmul(tf.reshape(pool1, [-1, 14 * 14 * 32]), self.W2), self.b2)\n",
    "    \n",
    "        logits = tf.layers.dense(tf.layers.flatten(pool2), units=10)\n",
    "        self.f = tf.nn.softmax(logits)\n",
    "        self.accuracy = tf.reduce_mean(tf.cast(tf.equal(tf.argmax(self.f, 1), tf.argmax(self.y, 1)), tf.float32))\n",
    "        self.loss = tf.losses.softmax_cross_entropy(self.y, logits)"
   ]
  },
  {
   "cell_type": "code",
   "execution_count": 7,
   "metadata": {
    "scrolled": false
   },
   "outputs": [
    {
     "name": "stderr",
     "output_type": "stream",
     "text": [
      "WARNING: Logging before flag parsing goes to stderr.\n",
      "W0909 13:10:02.863796 139970179868480 deprecation.py:323] From <ipython-input-6-fbbcaf26618c>:14: conv2d (from tensorflow.python.layers.convolutional) is deprecated and will be removed in a future version.\n",
      "Instructions for updating:\n",
      "Use `tf.keras.layers.Conv2D` instead.\n",
      "W0909 13:10:02.867191 139970179868480 deprecation.py:506] From /home/sindrtho/anaconda3/envs/tensorflow_env/lib/python3.7/site-packages/tensorflow/python/ops/init_ops.py:1251: calling VarianceScaling.__init__ (from tensorflow.python.ops.init_ops) with dtype is deprecated and will be removed in a future version.\n",
      "Instructions for updating:\n",
      "Call initializer instance with the dtype argument instead of passing it to the constructor\n",
      "W0909 13:10:03.029229 139970179868480 deprecation.py:323] From <ipython-input-6-fbbcaf26618c>:15: max_pooling2d (from tensorflow.python.layers.pooling) is deprecated and will be removed in a future version.\n",
      "Instructions for updating:\n",
      "Use keras.layers.MaxPooling2D instead.\n",
      "W0909 13:10:03.128997 139970179868480 deprecation.py:323] From <ipython-input-6-fbbcaf26618c>:21: flatten (from tensorflow.python.layers.core) is deprecated and will be removed in a future version.\n",
      "Instructions for updating:\n",
      "Use keras.layers.flatten instead.\n",
      "W0909 13:10:03.277322 139970179868480 deprecation.py:323] From <ipython-input-6-fbbcaf26618c>:21: dense (from tensorflow.python.layers.core) is deprecated and will be removed in a future version.\n",
      "Instructions for updating:\n",
      "Use keras.layers.dense instead.\n",
      "W0909 13:10:03.494348 139970179868480 deprecation.py:323] From /home/sindrtho/anaconda3/envs/tensorflow_env/lib/python3.7/site-packages/tensorflow/python/ops/losses/losses_impl.py:121: add_dispatch_support.<locals>.wrapper (from tensorflow.python.ops.array_ops) is deprecated and will be removed in a future version.\n",
      "Instructions for updating:\n",
      "Use tf.where in 2.0, which has the same broadcast rule as np.where\n"
     ]
    },
    {
     "name": "stdout",
     "output_type": "stream",
     "text": [
      "Epoch 1\n",
      "Model accuracy after 0 epochs: 0.96\n",
      "Time for epoch 0: 17\n",
      "\n",
      "Epoch 2\n",
      "Model accuracy after 1 epochs: 0.97\n",
      "Time for epoch 1: 19\n",
      "\n",
      "Epoch 3\n",
      "Model accuracy after 2 epochs: 0.96\n",
      "Time for epoch 2: 21\n",
      "\n",
      "Epoch 4\n",
      "Model accuracy after 3 epochs: 0.96\n",
      "Time for epoch 3: 19\n",
      "\n",
      "Epoch 5\n",
      "Model accuracy after 4 epochs: 0.97\n",
      "Time for epoch 4: 20\n",
      "\n",
      "Epoch 6\n",
      "Model accuracy after 5 epochs: 0.97\n",
      "Time for epoch 5: 19\n",
      "\n",
      "Epoch 7\n",
      "Model accuracy after 6 epochs: 0.97\n",
      "Time for epoch 6: 19\n",
      "\n",
      "Epoch 8\n",
      "Model accuracy after 7 epochs: 0.97\n",
      "Time for epoch 7: 19\n",
      "\n",
      "Epoch 9\n",
      "Model accuracy after 8 epochs: 0.97\n",
      "Time for epoch 8: 19\n",
      "\n",
      "Epoch 10\n",
      "Model accuracy after 9 epochs: 0.97\n",
      "Time for epoch 9: 19\n",
      "\n",
      "Epoch 11\n",
      "Model accuracy after 10 epochs: 0.97\n",
      "Time for epoch 10: 19\n",
      "\n",
      "Epoch 12\n",
      "Model accuracy after 11 epochs: 0.97\n",
      "Time for epoch 11: 19\n",
      "\n",
      "Epoch 13\n",
      "Model accuracy after 12 epochs: 0.97\n",
      "Time for epoch 12: 19\n",
      "\n",
      "Epoch 14\n",
      "Model accuracy after 13 epochs: 0.98\n",
      "Time for epoch 13: 19\n",
      "\n",
      "Epoch 15\n",
      "Model accuracy after 14 epochs: 0.97\n",
      "Time for epoch 14: 19\n",
      "\n",
      "Epoch 16\n",
      "Model accuracy after 15 epochs: 0.97\n",
      "Time for epoch 15: 19\n",
      "\n",
      "Epoch 17\n",
      "Model accuracy after 16 epochs: 0.97\n",
      "Time for epoch 16: 19\n",
      "\n",
      "Epoch 18\n",
      "Model accuracy after 17 epochs: 0.97\n",
      "Time for epoch 17: 19\n",
      "\n",
      "Epoch 19\n",
      "Model accuracy after 18 epochs: 0.98\n",
      "Time for epoch 18: 19\n",
      "\n",
      "Epoch 20\n",
      "Model accuracy after 19 epochs: 0.98\n",
      "Time for epoch 19: 19\n",
      "\n",
      "Runtime: 426.52\n"
     ]
    }
   ],
   "source": [
    "model = DigitRecognizer()\n",
    "mini_op = tf.train.AdamOptimizer(0.001).minimize(model.loss)\n",
    "\n",
    "session = tf.Session()\n",
    "session.run(tf.global_variables_initializer())\n",
    "\n",
    "start = time.time()\n",
    "\n",
    "EPOCHS = 20\n",
    "\n",
    "for epoch in range(EPOCHS):\n",
    "    start_epoch = time.time()\n",
    "    print(\"Epoch %d\" % (epoch + 1))\n",
    "    for batch in range(TRAINING_BATCHES):\n",
    "        session.run(mini_op, {model.x: x_train_batches[batch], model.y: y_train_batches[batch]})\n",
    "    end_epoch = time.time()\n",
    "    accuracy = session.run([model.accuracy], {model.x: x_test, model.y: y_test})\n",
    "    print(\"Model accuracy after %d epochs: %.2f\" % (epoch, accuracy[0]))\n",
    "    print(\"Time for epoch %.d: %.f\\n\" % (epoch, (end_epoch - start_epoch)))\n",
    "\n",
    "end = time.time()\n",
    "print(\"Runtime: %.2f\" % (end - start))\n",
    "\n",
    "# loss, accuracy = session.run([model.loss, model.accuracy], {model.x: x_test, model.y: y_test})"
   ]
  },
  {
   "cell_type": "code",
   "execution_count": 8,
   "metadata": {},
   "outputs": [
    {
     "name": "stdout",
     "output_type": "stream",
     "text": [
      "97.82% accuracy\n"
     ]
    }
   ],
   "source": [
    "predictions, accuracy = session.run([model.f, model.accuracy], {model.x: x_test, model.y: y_test})\n",
    "for p in predictions:\n",
    "    max = 0\n",
    "    index = 0\n",
    "    for n in range(len(p)):\n",
    "        if p[n] > max:\n",
    "            max = p[n]\n",
    "            index = n\n",
    "    for n in range(len(p)):\n",
    "        p[n] = 0 if not n == index else 1\n",
    "        \n",
    "acc = sum([int(list(predictions[i]) == list(y_test[i])) for i in range(len(predictions))])/len(predictions)*100\n",
    "print(\"%.2f%s accuracy\" % (acc, '%'))"
   ]
  },
  {
   "cell_type": "code",
   "execution_count": 10,
   "metadata": {},
   "outputs": [
    {
     "name": "stdout",
     "output_type": "stream",
     "text": [
      "0.97822857\n"
     ]
    }
   ],
   "source": [
    "print(accuracy)"
   ]
  }
 ],
 "metadata": {
  "kernelspec": {
   "display_name": "Python 3",
   "language": "python",
   "name": "python3"
  },
  "language_info": {
   "codemirror_mode": {
    "name": "ipython",
    "version": 3
   },
   "file_extension": ".py",
   "mimetype": "text/x-python",
   "name": "python",
   "nbconvert_exporter": "python",
   "pygments_lexer": "ipython3",
   "version": "3.7.4"
  }
 },
 "nbformat": 4,
 "nbformat_minor": 2
}
