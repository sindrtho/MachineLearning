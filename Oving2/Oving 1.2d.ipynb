{
 "cells": [
  {
   "cell_type": "code",
   "execution_count": 1,
   "metadata": {},
   "outputs": [],
   "source": [
    "# Fixing imports\n",
    "import tensorflow as tf\n",
    "import numpy as np\n",
    "import pandas as pd\n",
    "import matplotlib.pyplot as plt\n",
    "from sklearn.model_selection import train_test_split as tts\n",
    "from sklearn.datasets import fetch_openml\n",
    "from PIL import Image, ImageTk\n",
    "import time\n",
    "import random as rnd"
   ]
  },
  {
   "cell_type": "code",
   "execution_count": 36,
   "metadata": {},
   "outputs": [],
   "source": [
    "# Loading dataset and splitting to training and test set\n",
    "x, y = fetch_openml('mnist_784', version=1, return_X_y=True)\n",
    "x_train, x_test, y_train, y_test = tts(x, y, test_size=0.25, random_state=0)\n",
    "y_train = y_train.reshape(len(y_train), 1)\n",
    "y_test = y_test.reshape(len(y_test), 1)\n"
   ]
  },
  {
   "cell_type": "code",
   "execution_count": 85,
   "metadata": {},
   "outputs": [],
   "source": [
    "# Fixing ys\n",
    "real_y_train = np.array([[0.0, 0.0, 0.0, 0.0, 0.0, 0.0, 0.0, 0.0, 0.0, 0.0] for i in range(len(y_train))])\n",
    "for i in range(len(y_train)):\n",
    "    real_y_train[i, int(y_train[i, 0])] = 1.0\n",
    "real_y_test = np.array([[0.0, 0.0, 0.0, 0.0, 0.0, 0.0, 0.0, 0.0, 0.0, 0.0] for i in range(len(y_test))])\n",
    "for i in range(len(y_test)):\n",
    "    real_y_test[i, int(y_test[i, 0])] = 1.0"
   ]
  },
  {
   "cell_type": "code",
   "execution_count": 115,
   "metadata": {},
   "outputs": [],
   "source": [
    "class DigitRecognizer():\n",
    "    def __init__(self):\n",
    "        self.x = tf.placeholder(tf.float32)\n",
    "        self.y = tf.placeholder(tf.float32)\n",
    "\n",
    "        self.W = tf.Variable(tf.zeros([784, 10]))\n",
    "        self.b = tf.Variable(tf.zeros([10]))\n",
    "        \n",
    "        logits = tf.matmul(self.x, self.W) + self.b\n",
    "        self.f = tf.nn.softmax(logits)\n",
    "        \n",
    "        self.loss = tf.losses.softmax_cross_entropy(self.y, logits)"
   ]
  },
  {
   "cell_type": "code",
   "execution_count": 135,
   "metadata": {},
   "outputs": [
    {
     "name": "stdout",
     "output_type": "stream",
     "text": [
      "Epoch: 0\n",
      "Epoch: 100\n",
      "Epoch: 200\n",
      "Epoch: 300\n",
      "Epoch: 400\n",
      "Epoch: 500\n",
      "Epoch: 600\n",
      "Epoch: 700\n",
      "Epoch: 800\n",
      "Epoch: 900\n",
      "Runtime: 174.51\n"
     ]
    }
   ],
   "source": [
    "model = DigitRecognizer()\n",
    "mini_op = tf.train.GradientDescentOptimizer(1000).minimize(model.loss)\n",
    "\n",
    "session = tf.Session()\n",
    "session.run(tf.global_variables_initializer())\n",
    "\n",
    "start = time.time()\n",
    "\n",
    "for i in range(1000):\n",
    "    session.run(mini_op, {model.x: x_train, model.y: real_y_train})\n",
    "    if i%100 == 0:\n",
    "        print(\"Epoch: %d\" % i)\n",
    "\n",
    "\n",
    "end = time.time()\n",
    "print(\"Runtime: %.2f\" % (end - start))\n",
    "\n",
    "W, b, loss = session.run([model.W, model.b, model.loss], {model.x: x_test, model.y: real_y_test})"
   ]
  },
  {
   "cell_type": "code",
   "execution_count": 136,
   "metadata": {},
   "outputs": [
    {
     "name": "stdout",
     "output_type": "stream",
     "text": [
      "5327818.5\n",
      "[[0. 0. 0. ... 0. 0. 0.]\n",
      " [0. 0. 0. ... 0. 0. 0.]\n",
      " [0. 0. 0. ... 0. 0. 0.]\n",
      " ...\n",
      " [0. 0. 0. ... 0. 0. 0.]\n",
      " [0. 0. 0. ... 0. 0. 0.]\n",
      " [0. 0. 0. ... 0. 0. 0.]]\n",
      "[ -429.0288    401.32425  1017.2669   -290.79025   -38.63802  3280.8384\n",
      "   114.37134  1180.2861  -4522.88     -712.7524 ]\n"
     ]
    }
   ],
   "source": [
    "print(loss)\n",
    "print(W)\n",
    "print(b)"
   ]
  },
  {
   "cell_type": "code",
   "execution_count": 137,
   "metadata": {},
   "outputs": [],
   "source": [
    "preds = session.run([model.f], {model.x: x_test, model.y: real_y_test})"
   ]
  },
  {
   "cell_type": "code",
   "execution_count": 155,
   "metadata": {},
   "outputs": [
    {
     "data": {
      "text/plain": [
       "<matplotlib.image.AxesImage at 0x7fa471eaad90>"
      ]
     },
     "execution_count": 155,
     "metadata": {},
     "output_type": "execute_result"
    },
    {
     "data": {
      "image/png": "[encoded data removed]",
      "text/plain": [
       "<Figure size 432x288 with 1 Axes>"
      ]
     },
     "metadata": {
      "needs_background": "light"
     },
     "output_type": "display_data"
    }
   ],
   "source": [
    "plt.imshow(W[:, 3].reshape(28, 28))\n",
    "# real_y_train.shape"
   ]
  },
  {
   "cell_type": "code",
   "execution_count": 139,
   "metadata": {},
   "outputs": [
    {
     "data": {
      "text/plain": [
       "91.00571428571429"
      ]
     },
     "execution_count": 139,
     "metadata": {},
     "output_type": "execute_result"
    }
   ],
   "source": [
    "sum([int(list(preds[0][i]) == list(real_y_test[i])) for i in range(len(preds[0]))])/len(preds[0])*100"
   ]
  },
  {
   "cell_type": "code",
   "execution_count": 153,
   "metadata": {},
   "outputs": [],
   "source": [
    "# Save images\n",
    "for i in range(10):\n",
    "    plt.imsave('image_'+str(i)+'.png', W[:, i].reshape(28, 28))"
   ]
  },
  {
   "cell_type": "code",
   "execution_count": 161,
   "metadata": {},
   "outputs": [
    {
     "data": {
      "text/plain": [
       "<matplotlib.image.AxesImage at 0x7fa470dccf50>"
      ]
     },
     "execution_count": 161,
     "metadata": {},
     "output_type": "execute_result"
    },
    {
     "data": {
      "image/png": "[encoded data removed]",
      "text/plain": [
       "<Figure size 432x288 with 10 Axes>"
      ]
     },
     "metadata": {
      "needs_background": "light"
     },
     "output_type": "display_data"
    }
   ],
   "source": [
    "#Shows the optimized W in as images in a subplots\n",
    "fig, ax = plt.subplots(2,5)\n",
    "\n",
    "ax[0,0].set_title(\"0\") # Print the classification of the first observation in the training set\n",
    "ax[0,0].imshow(W[:,0].reshape(28,28)) # Show x of first observation in the training set\n",
    "ax[0,1].set_title(\"1\")\n",
    "ax[0,1].imshow(W[:,1].reshape(28,28))\n",
    "ax[0,2].set_title(\"2\")\n",
    "ax[0,2].imshow(W[:,2].reshape(28,28))\n",
    "ax[0,3].set_title(\"3\")\n",
    "ax[0,3].imshow(W[:,3].reshape(28,28))\n",
    "ax[0,4].set_title(\"4\")\n",
    "ax[0,4].imshow(W[:,4].reshape(28,28))\n",
    "ax[1,0].set_title(\"5\")\n",
    "ax[1,0].imshow(W[:,5].reshape(28,28))\n",
    "ax[1,1].set_title(\"6\")\n",
    "ax[1,1].imshow(W[:,6].reshape(28,28))\n",
    "ax[1,2].set_title(\"7\")\n",
    "ax[1,2].imshow(W[:,7].reshape(28,28))\n",
    "ax[1,3].set_title(\"8\")\n",
    "ax[1,3].imshow(W[:,8].reshape(28,28))\n",
    "ax[1,4].set_title(\"9\")\n",
    "ax[1,4].imshow(W[:,9].reshape(28,28))"
   ]
  }
 ],
 "metadata": {
  "kernelspec": {
   "display_name": "Python 3",
   "language": "python",
   "name": "python3"
  },
  "language_info": {
   "codemirror_mode": {
    "name": "ipython",
    "version": 3
   },
   "file_extension": ".py",
   "mimetype": "text/x-python",
   "name": "python",
   "nbconvert_exporter": "python",
   "pygments_lexer": "ipython3",
   "version": "3.7.4"
  }
 },
 "nbformat": 4,
 "nbformat_minor": 2
}
