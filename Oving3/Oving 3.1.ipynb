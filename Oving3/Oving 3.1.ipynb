{
 "cells": [
  {
   "cell_type": "markdown",
   "metadata": {},
   "source": [
    "## Øving 3.1"
   ]
  },
  {
   "cell_type": "code",
   "execution_count": 1,
   "metadata": {},
   "outputs": [],
   "source": [
    "# Import pandas\n",
    "import pandas as pd"
   ]
  },
  {
   "cell_type": "markdown",
   "metadata": {},
   "source": [
    "#### Oppg 1, 2\n",
    "Download jupyter notebook and the dataset\n",
    "\n",
    "#### Oppg 3\n",
    "Load dataset with pandas"
   ]
  },
  {
   "cell_type": "code",
   "execution_count": 2,
   "metadata": {},
   "outputs": [],
   "source": [
    "# Loading data and divide it to x and y vectors.\n",
    "# Also split into dummy variable sets while we're at it.\n",
    "data = pd.read_csv('shrooms.data')\n",
    "y = data[['edible']]\n",
    "x = data.iloc[:, 1:]\n",
    "dummy_data = pd.get_dummies(data)\n",
    "dummy_x = pd.get_dummies(x)\n",
    "dummy_y = pd.get_dummies(y)"
   ]
  },
  {
   "cell_type": "markdown",
   "metadata": {},
   "source": [
    "#### Oppg 4\n",
    "Explore the dataset and show some examples."
   ]
  },
  {
   "cell_type": "code",
   "execution_count": 3,
   "metadata": {},
   "outputs": [
    {
     "data": {
      "text/html": [
       "<div>\n",
       "<style scoped>\n",
       "    .dataframe tbody tr th:only-of-type {\n",
       "        vertical-align: middle;\n",
       "    }\n",
       "\n",
       "    .dataframe tbody tr th {\n",
       "        vertical-align: top;\n",
       "    }\n",
       "\n",
       "    .dataframe thead th {\n",
       "        text-align: right;\n",
       "    }\n",
       "</style>\n",
       "<table border=\"1\" class=\"dataframe\">\n",
       "  <thead>\n",
       "    <tr style=\"text-align: right;\">\n",
       "      <th></th>\n",
       "      <th>cap-shape</th>\n",
       "      <th>cap-surface</th>\n",
       "      <th>cap-color</th>\n",
       "      <th>edible</th>\n",
       "    </tr>\n",
       "  </thead>\n",
       "  <tbody>\n",
       "    <tr>\n",
       "      <th>0</th>\n",
       "      <td>x</td>\n",
       "      <td>s</td>\n",
       "      <td>n</td>\n",
       "      <td>p</td>\n",
       "    </tr>\n",
       "    <tr>\n",
       "      <th>1</th>\n",
       "      <td>x</td>\n",
       "      <td>s</td>\n",
       "      <td>y</td>\n",
       "      <td>e</td>\n",
       "    </tr>\n",
       "    <tr>\n",
       "      <th>2</th>\n",
       "      <td>b</td>\n",
       "      <td>s</td>\n",
       "      <td>w</td>\n",
       "      <td>e</td>\n",
       "    </tr>\n",
       "    <tr>\n",
       "      <th>3</th>\n",
       "      <td>x</td>\n",
       "      <td>y</td>\n",
       "      <td>w</td>\n",
       "      <td>p</td>\n",
       "    </tr>\n",
       "    <tr>\n",
       "      <th>4</th>\n",
       "      <td>x</td>\n",
       "      <td>s</td>\n",
       "      <td>g</td>\n",
       "      <td>e</td>\n",
       "    </tr>\n",
       "  </tbody>\n",
       "</table>\n",
       "</div>"
      ],
      "text/plain": [
       "  cap-shape cap-surface cap-color edible\n",
       "0         x           s         n      p\n",
       "1         x           s         y      e\n",
       "2         b           s         w      e\n",
       "3         x           y         w      p\n",
       "4         x           s         g      e"
      ]
     },
     "execution_count": 3,
     "metadata": {},
     "output_type": "execute_result"
    }
   ],
   "source": [
    "# Show only cap features\n",
    "caps = data[['cap-shape', 'cap-surface', 'cap-color', 'edible']]\n",
    "caps.head()"
   ]
  },
  {
   "cell_type": "code",
   "execution_count": 10,
   "metadata": {},
   "outputs": [
    {
     "name": "stdout",
     "output_type": "stream",
     "text": [
      "Shrooms that will KILL YOU!: 3916\n",
      "Shrooms that will KILL YOU that are white: 3908\n",
      "     veil-color edible\n",
      "6912          y      p\n",
      "7295          y      p\n",
      "7367          y      p\n",
      "7401          y      p\n",
      "7483          y      p\n",
      "7600          y      p\n",
      "7706          y      p\n",
      "7739          y      p\n",
      "White shrooms: 7924\n",
      "White shrooms that will KILL YOU!: 3908\n"
     ]
    },
    {
     "name": "stderr",
     "output_type": "stream",
     "text": [
      "/home/sindrtho/anaconda3/envs/tensorflow_env/lib/python3.7/site-packages/ipykernel_launcher.py:4: UserWarning: Boolean Series key will be reindexed to match DataFrame index.\n",
      "  after removing the cwd from sys.path.\n"
     ]
    }
   ],
   "source": [
    "# What color are poisonus mushroom veils\n",
    "shrooms = data[['veil-color', 'edible']]\n",
    "p_shrooms = shrooms[shrooms['edible'] == 'p']\n",
    "white_p_shrooms = p_shrooms[shrooms['veil-color'] == 'w']\n",
    "nonwhite_p_shrooms = p_shrooms[p_shrooms['veil-color'] != 'w']\n",
    "\n",
    "print(\"Shrooms that will KILL YOU!: %d\" % len(p_shrooms))\n",
    "print(\"Shrooms that will KILL YOU that are white: %d\" % len(white_p_shrooms))\n",
    "\n",
    "# What color are the last 8 deadly shrooms?\n",
    "non_white_deadly_shrooms = p_shrooms[p_shrooms['veil-color'] != 'w']\n",
    "print(non_white_deadly_shrooms)\n",
    "# They seem to be yellow\n",
    "\n",
    "white_shrooms = shrooms[shrooms['veil-color'] == 'w']\n",
    "p_white_shrooms = white_shrooms[white_shrooms['edible'] == 'p']\n",
    "\n",
    "print(\"White shrooms: %d\" % len(white_shrooms))\n",
    "print(\"White shrooms that will KILL YOU!: %d\" % len(p_white_shrooms))"
   ]
  },
  {
   "cell_type": "code",
   "execution_count": 9,
   "metadata": {},
   "outputs": [
    {
     "data": {
      "image/png": "[encoded data removed]",
      "text/plain": [
       "<Figure size 432x288 with 1 Axes>"
      ]
     },
     "metadata": {
      "needs_background": "light"
     },
     "output_type": "display_data"
    }
   ],
   "source": [
    "import matplotlib.pyplot as plt\n",
    "import numpy as np\n",
    "\n",
    "labels = ['Deadly Mushrooms', 'White Mushrooms', 'Deadly White Mushrooms']\n",
    "plt.bar(labels, [len(p_shrooms), len(white_shrooms), len(white_p_shrooms)])\n",
    "plt.show()"
   ]
  }
 ],
 "metadata": {
  "kernelspec": {
   "display_name": "Python 3",
   "language": "python",
   "name": "python3"
  },
  "language_info": {
   "codemirror_mode": {
    "name": "ipython",
    "version": 3
   },
   "file_extension": ".py",
   "mimetype": "text/x-python",
   "name": "python",
   "nbconvert_exporter": "python",
   "pygments_lexer": "ipython3",
   "version": "3.7.4"
  }
 },
 "nbformat": 4,
 "nbformat_minor": 2
}
