{
 "cells": [
  {
   "cell_type": "code",
   "execution_count": 4,
   "metadata": {},
   "outputs": [],
   "source": [
    "import tensorflow as tf\n",
    "import matplotlib.pyplot as plt\n",
    "import pandas as pd\n",
    "import numpy as np\n",
    "from sklearn.model_selection import train_test_split as tts"
   ]
  },
  {
   "cell_type": "code",
   "execution_count": 22,
   "metadata": {},
   "outputs": [],
   "source": [
    "# Loading the testdata\n",
    "data = pd.read_csv('testdata.csv')\n",
    "x = np.mat(data.iloc[:, 0:1].values)\n",
    "y = np.mat(data.iloc[:, 1:].values)\n",
    "x_train, x_test, y_train, y_test = tts(x, y, test_size=0.25, random_state=0)"
   ]
  },
  {
   "cell_type": "code",
   "execution_count": 66,
   "metadata": {},
   "outputs": [],
   "source": [
    "class ClassificationModel():\n",
    "    def siggy(z):\n",
    "        return 1/(1+np.e**-z)\n",
    "        \n",
    "    def __init__(self):\n",
    "        self.x = tf.placeholder(tf.float32)\n",
    "        self.y = tf.placeholder(tf.float32)\n",
    "        \n",
    "        self.W = tf.Variable([[0.0]])\n",
    "        self.b = tf.Variable([[0.0]])\n",
    "        \n",
    "        self.f = 1/(1 + np.e**-(tf.matmul(self.x, self.W) + self.b))\n",
    "        \n",
    "        self.loss = tf.losses.sigmoid_cross_entropy(self.y, self.f)"
   ]
  },
  {
   "cell_type": "code",
   "execution_count": 151,
   "metadata": {},
   "outputs": [
    {
     "name": "stdout",
     "output_type": "stream",
     "text": [
      "Loss: 0.50\n",
      "W: -22.45\n",
      "b: 10.72\n"
     ]
    }
   ],
   "source": [
    "model = ClassificationModel()\n",
    "mini_op = tf.train.GradientDescentOptimizer(100).minimize(model.loss)\n",
    "\n",
    "session = tf.Session()\n",
    "session.run(tf.global_variables_initializer())\n",
    "\n",
    "for i in range(10000):\n",
    "    session.run(mini_op, {model.x: x_train, model.y: y_train})\n",
    "    \n",
    "W, b, loss = session.run([model.W, model.b, model.loss], {model.x: x_test, model.y: y_test})\n",
    "print('Loss: %.2f' % loss)\n",
    "print('W: %.2f\\nb: %.2f' % (W, b))"
   ]
  },
  {
   "cell_type": "code",
   "execution_count": 152,
   "metadata": {},
   "outputs": [
    {
     "name": "stdout",
     "output_type": "stream",
     "text": [
      "100.0% correct\n"
     ]
    }
   ],
   "source": [
    "# Predicting results from testdata and printing accuracy\n",
    "temp_preds = session.run([model.f], {model.x: x_test, model.y: y_test})\n",
    "\n",
    "# Compares observations and predictions (add .5 to observation to get int 0 or 1)\n",
    "predictions = [int(i) for i in temp_preds[0]+0.5]\n",
    "ys = y_test\n",
    "\n",
    "number_correct = sum([int(predictions[x] == ys[x]) for x in range(len(ys))])\n",
    "\n",
    "print(str(number_correct/len(ys)*100) + '% correct')"
   ]
  },
  {
   "cell_type": "code",
   "execution_count": 153,
   "metadata": {},
   "outputs": [
    {
     "data": {
      "image/png": "[encoded data removed]",
      "text/plain": [
       "<Figure size 432x288 with 1 Axes>"
      ]
     },
     "metadata": {
      "needs_background": "light"
     },
     "output_type": "display_data"
    }
   ],
   "source": [
    "# Plotting the result\n",
    "def siggy(z):\n",
    "    return 1/(1 + np.e**-z)\n",
    "\n",
    "X = np.linspace(-1, 2, 1000)\n",
    "Y = session.run([model.f], {model.x: [[x] for x in X], model.y: [[x] for x in X]})\n",
    "\n",
    "plt.plot(X, [y[0] for y in Y[0]], linewidth=4, label='Sigmoid func')\n",
    "plt.scatter([x[0] for x in x_test], [y[0] for y in y_test], c='red', label='Observations')\n",
    "plt.legend()\n",
    "plt.show()"
   ]
  }
 ],
 "metadata": {
  "kernelspec": {
   "display_name": "Python 3",
   "language": "python",
   "name": "python3"
  },
  "language_info": {
   "codemirror_mode": {
    "name": "ipython",
    "version": 3
   },
   "file_extension": ".py",
   "mimetype": "text/x-python",
   "name": "python",
   "nbconvert_exporter": "python",
   "pygments_lexer": "ipython3",
   "version": "3.7.4"
  }
 },
 "nbformat": 4,
 "nbformat_minor": 2
}
