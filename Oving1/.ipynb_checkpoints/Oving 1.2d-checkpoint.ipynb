{
 "cells": [
  {
   "cell_type": "code",
   "execution_count": 28,
   "metadata": {},
   "outputs": [],
   "source": [
    "# Fixing imports\n",
    "import tensorflow as tf\n",
    "import numpy as np\n",
    "import pandas as pd\n",
    "import matplotlib.pyplot as plt\n",
    "from sklearn.model_selection import train_test_split as tts\n",
    "from sklearn.datasets import fetch_openml\n",
    "from PIL import Image, ImageTk\n",
    "import time"
   ]
  },
  {
   "cell_type": "code",
   "execution_count": 19,
   "metadata": {},
   "outputs": [],
   "source": [
    "# Loading dataset and splitting to training and test set\n",
    "x, y = fetch_openml('mnist_784', version=1, return_X_y=True)\n",
    "x_train, x_test, y_train, y_test = tts(x, y, test_size=0.25, random_state=0)\n",
    "y_train = y_train.reshape(len(y_train), 1)\n",
    "y_test = y_test.reshape(len(y_test), 1)"
   ]
  },
  {
   "cell_type": "code",
   "execution_count": 20,
   "metadata": {},
   "outputs": [],
   "source": [
    "class DigitRecognizer():\n",
    "    def __init__(self):\n",
    "        self.x = tf.placeholder(tf.float32)\n",
    "        self.y = tf.placeholder(tf.float32)\n",
    "        \n",
    "        self.W = tf.Variable(np.zeros(shape=(784, 10), dtype=np.float32))\n",
    "        self.b = tf.Variable(np.zeros(shape=(1, 10), dtype=np.float32))\n",
    "        \n",
    "        logits = tf.matmul(self.x, self.W) + self.b\n",
    "        self.f = tf.nn.softmax(logits)\n",
    "        \n",
    "        self.loss = tf.losses.softmax_cross_entropy(self.y, logits)"
   ]
  },
  {
   "cell_type": "code",
   "execution_count": 29,
   "metadata": {},
   "outputs": [
    {
     "name": "stdout",
     "output_type": "stream",
     "text": [
      "Runtime: 179.38\n"
     ]
    }
   ],
   "source": [
    "model = DigitRecognizer()\n",
    "mini_op = tf.train.GradientDescentOptimizer(100).minimize(model.loss)\n",
    "\n",
    "session = tf.Session()\n",
    "session.run(tf.global_variables_initializer())\n",
    "\n",
    "start = time.time()\n",
    "\n",
    "for i in range(1000):\n",
    "    session.run(mini_op, {model.x: x_train, model.y: y_train})\n",
    "\n",
    "\n",
    "end = time.time()\n",
    "print(\"Runtime: %.2f\" % (end - start))\n",
    "\n",
    "W, b, loss = session.run([model.W, model.b, model.loss], {model.x: x_test, model.y: y_test})"
   ]
  },
  {
   "cell_type": "code",
   "execution_count": 27,
   "metadata": {},
   "outputs": [
    {
     "name": "stdout",
     "output_type": "stream",
     "text": [
      "102.5611\n",
      "[[0. 0. 0. ... 0. 0. 0.]\n",
      " [0. 0. 0. ... 0. 0. 0.]\n",
      " [0. 0. 0. ... 0. 0. 0.]\n",
      " ...\n",
      " [0. 0. 0. ... 0. 0. 0.]\n",
      " [0. 0. 0. ... 0. 0. 0.]\n",
      " [0. 0. 0. ... 0. 0. 0.]]\n",
      "[[435187. 435187. 435187. 435187. 435187. 435187. 435187. 435187. 435187.\n",
      "  435187.]]\n"
     ]
    }
   ],
   "source": [
    "print(loss)\n",
    "print(W)\n",
    "print(b)"
   ]
  }
 ],
 "metadata": {
  "kernelspec": {
   "display_name": "Python 3",
   "language": "python",
   "name": "python3"
  },
  "language_info": {
   "codemirror_mode": {
    "name": "ipython",
    "version": 3
   },
   "file_extension": ".py",
   "mimetype": "text/x-python",
   "name": "python",
   "nbconvert_exporter": "python",
   "pygments_lexer": "ipython3",
   "version": "3.7.4"
  }
 },
 "nbformat": 4,
 "nbformat_minor": 2
}
